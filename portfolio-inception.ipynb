{
 "cells": [
  {
   "cell_type": "code",
   "execution_count": 40,
   "id": "ed74ab54-84c4-43d7-842e-0988a12537b1",
   "metadata": {
    "tags": []
   },
   "outputs": [],
   "source": [
    "#Initilize imports\n",
    "import pandas as pd\n",
    "import numpy as np\n",
    "import datetime as dt\n",
    "import pathlib as path\n",
    "\n",
    "%matplotlib inline"
   ]
  },
  {
   "cell_type": "code",
   "execution_count": 41,
   "id": "4069ad56-7c34-45a4-9b27-890da6eac2ac",
   "metadata": {
    "tags": []
   },
   "outputs": [],
   "source": [
    "# Use Pandas, read CSVs:\n",
    "# whale_returns.csv\n",
    "whale_returns_dataframe = pd.read_csv(r'C:\\Users\\ppate\\Module_4_files\\Starter_Code\\Resources\\whale_returns.csv')\n",
    "algo_returns_dataframe = pd.read_csv(r'C:\\Users\\ppate\\Module_4_files\\Starter_Code\\Resources\\algo_returns.csv')\n",
    "sp500_history_dataframe = pd.read_csv(r'C:\\Users\\ppate\\Module_4_files\\Starter_Code\\Resources\\sp500_history.csv')\n",
    "\n",
    "# Convert dates to DateTimeIndex "
   ]
  },
  {
   "cell_type": "markdown",
   "id": "ce3b98a0-d181-451b-abec-ad0f0c56ab7e",
   "metadata": {},
   "source": [
    "# Cleaning nulls from DataFrame by dropping\n",
    "csv_data = csv_data.dropna()\n",
    "csv_data\n",
    "\n",
    "# Check duplicates\n",
    "csv_data.duplicated()"
   ]
  }
 ],
 "metadata": {
  "kernelspec": {
   "display_name": "Python 3 (ipykernel)",
   "language": "python",
   "name": "python3"
  },
  "language_info": {
   "codemirror_mode": {
    "name": "ipython",
    "version": 3
   },
   "file_extension": ".py",
   "mimetype": "text/x-python",
   "name": "python",
   "nbconvert_exporter": "python",
   "pygments_lexer": "ipython3",
   "version": "3.11.4"
  }
 },
 "nbformat": 4,
 "nbformat_minor": 5
}
