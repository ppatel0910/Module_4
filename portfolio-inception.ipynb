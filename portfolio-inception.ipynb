{
 "cells": [
  {
   "cell_type": "markdown",
   "id": "e04fb65c-4a53-4280-bb76-af516f4b64cc",
   "metadata": {},
   "source": [
    "# Portfolio Inception\n",
    "For Rutger's [Fintech Bootcamp]():\n",
    "> You have been investing in algorithmic trading strategies. Some of the investment managers love them, some hate them, but they all think their way is best.\n",
    "\n",
    "> You just learned these quantitative analysis techniques with Python and Pandas, and you want to determine which portfolio is performing the best across multiple areas: volatility, returns, risk, and Sharpe ratios.\n",
    "\n",
    "> ...create a tool (an analysis notebook) that analyzes and visualizes the major metrics of the portfolios across all of these areas, and determine which portfolio outperformed the others. You will be given the historical daily returns of several portfolios: some from the firm's algorithmic portfolios, some that represent the portfolios of famous \"whale\" investors like Warren Buffett, and some from the big hedge and mutual funds. You will then use this analysis to create a custom portfolio of stocks and compare its performance to that of the other portfolios, as well as the larger market ([S&P 500 Index](https://en.wikipedia.org/wiki/S%26P/TSX_60))."
   ]
  },
  {
   "cell_type": "code",
   "execution_count": 15,
   "id": "ed74ab54-84c4-43d7-842e-0988a12537b1",
   "metadata": {
    "tags": []
   },
   "outputs": [],
   "source": [
    "import pathlib as path\n",
    "import datetime as dt\n",
    "from pprint import pprint\n",
    "\n",
    "import pandas as pd\n",
    "import numpy as np\n",
    "\n",
    "%matplotlib inline"
   ]
  },
  {
   "cell_type": "code",
   "execution_count": 14,
   "id": "4069ad56-7c34-45a4-9b27-890da6eac2ac",
   "metadata": {
    "tags": []
   },
   "outputs": [],
   "source": [
    "# The three csvs we are working with all share the same name for the column of\n",
    "# dates that we seek to convert to a DateTimeIndex\n",
    "date_col = [\"Date\"]\n",
    "\n",
    "\n",
    "whale_returns_path = r\"resources\\whale_returns.csv\"\n",
    "whale_returns_data_frame = pd.read_csv(whale_returns_path, \n",
    "                                       index_col = \"Date\", \n",
    "                                       parse_dates = date_col)\n",
    "\n",
    "# We use raw strings to avoid escaped characters being read, as we ran into an\n",
    "# error with '\\a' in next line\n",
    "algo_returns_path  = r\"resources\\algo_returns.csv\"\n",
    "algo_returns_data_frame = pd.read_csv(algo_returns_path, \n",
    "                                      index_col = \"Date\", \n",
    "                                      parse_dates = date_col)\n",
    "\n",
    "\n",
    "sp500_history_path = r\"resources\\sp500_history.csv\"\n",
    "sp500_history_data_frame = pd.read_csv(sp500_history_path, \n",
    "                                       index_col = \"Date\", \n",
    "                                       parse_dates = date_col)"
   ]
  },
  {
   "cell_type": "code",
   "execution_count": 17,
   "id": "8b90959e-8334-4687-b4a9-7c36d9315d13",
   "metadata": {
    "tags": []
   },
   "outputs": [
    {
     "name": "stdout",
     "output_type": "stream",
     "text": [
      "            SOROS FUND MANAGEMENT LLC  PAULSON & CO.INC.   \\\n",
      "Date                                                        \n",
      "2015-03-02                        NaN                 NaN   \n",
      "2015-03-03                  -0.001266           -0.004981   \n",
      "2015-03-04                   0.002230            0.003241   \n",
      "2015-03-05                   0.004016            0.004076   \n",
      "2015-03-06                  -0.007905           -0.003574   \n",
      "\n",
      "            TIGER GLOBAL MANAGEMENT LLC  BERKSHIRE HATHAWAY INC  \n",
      "Date                                                             \n",
      "2015-03-02                          NaN                     NaN  \n",
      "2015-03-03                    -0.000496               -0.006569  \n",
      "2015-03-04                    -0.002534                0.004213  \n",
      "2015-03-05                     0.002355                0.006726  \n",
      "2015-03-06                    -0.008481               -0.013098  \n"
     ]
    }
   ],
   "source": [
    "if whale_returns_data_frame.index.is_monotonic_increasing == True:\n",
    "    print(whale_returns_data_frame.head())"
   ]
  },
  {
   "cell_type": "code",
   "execution_count": 6,
   "id": "c9ccc189-fec4-4a57-b1af-a5894f32e7be",
   "metadata": {
    "tags": []
   },
   "outputs": [
    {
     "data": {
      "text/html": [
       "<div>\n",
       "<style scoped>\n",
       "    .dataframe tbody tr th:only-of-type {\n",
       "        vertical-align: middle;\n",
       "    }\n",
       "\n",
       "    .dataframe tbody tr th {\n",
       "        vertical-align: top;\n",
       "    }\n",
       "\n",
       "    .dataframe thead th {\n",
       "        text-align: right;\n",
       "    }\n",
       "</style>\n",
       "<table border=\"1\" class=\"dataframe\">\n",
       "  <thead>\n",
       "    <tr style=\"text-align: right;\">\n",
       "      <th></th>\n",
       "      <th>Algo 1</th>\n",
       "      <th>Algo 2</th>\n",
       "    </tr>\n",
       "    <tr>\n",
       "      <th>Date</th>\n",
       "      <th></th>\n",
       "      <th></th>\n",
       "    </tr>\n",
       "  </thead>\n",
       "  <tbody>\n",
       "    <tr>\n",
       "      <th>2014-05-28</th>\n",
       "      <td>0.001745</td>\n",
       "      <td>NaN</td>\n",
       "    </tr>\n",
       "    <tr>\n",
       "      <th>2014-05-29</th>\n",
       "      <td>0.003978</td>\n",
       "      <td>NaN</td>\n",
       "    </tr>\n",
       "    <tr>\n",
       "      <th>2014-05-30</th>\n",
       "      <td>0.004464</td>\n",
       "      <td>NaN</td>\n",
       "    </tr>\n",
       "    <tr>\n",
       "      <th>2014-06-02</th>\n",
       "      <td>0.005692</td>\n",
       "      <td>NaN</td>\n",
       "    </tr>\n",
       "    <tr>\n",
       "      <th>2014-06-03</th>\n",
       "      <td>0.005292</td>\n",
       "      <td>NaN</td>\n",
       "    </tr>\n",
       "    <tr>\n",
       "      <th>...</th>\n",
       "      <td>...</td>\n",
       "      <td>...</td>\n",
       "    </tr>\n",
       "    <tr>\n",
       "      <th>2019-04-25</th>\n",
       "      <td>0.000682</td>\n",
       "      <td>-0.007247</td>\n",
       "    </tr>\n",
       "    <tr>\n",
       "      <th>2019-04-26</th>\n",
       "      <td>0.002981</td>\n",
       "      <td>0.005256</td>\n",
       "    </tr>\n",
       "    <tr>\n",
       "      <th>2019-04-29</th>\n",
       "      <td>0.005208</td>\n",
       "      <td>0.002829</td>\n",
       "    </tr>\n",
       "    <tr>\n",
       "      <th>2019-04-30</th>\n",
       "      <td>-0.002944</td>\n",
       "      <td>-0.001570</td>\n",
       "    </tr>\n",
       "    <tr>\n",
       "      <th>2019-05-01</th>\n",
       "      <td>0.000094</td>\n",
       "      <td>-0.007358</td>\n",
       "    </tr>\n",
       "  </tbody>\n",
       "</table>\n",
       "<p>1241 rows × 2 columns</p>\n",
       "</div>"
      ],
      "text/plain": [
       "              Algo 1    Algo 2\n",
       "Date                          \n",
       "2014-05-28  0.001745       NaN\n",
       "2014-05-29  0.003978       NaN\n",
       "2014-05-30  0.004464       NaN\n",
       "2014-06-02  0.005692       NaN\n",
       "2014-06-03  0.005292       NaN\n",
       "...              ...       ...\n",
       "2019-04-25  0.000682 -0.007247\n",
       "2019-04-26  0.002981  0.005256\n",
       "2019-04-29  0.005208  0.002829\n",
       "2019-04-30 -0.002944 -0.001570\n",
       "2019-05-01  0.000094 -0.007358\n",
       "\n",
       "[1241 rows x 2 columns]"
      ]
     },
     "execution_count": 6,
     "metadata": {},
     "output_type": "execute_result"
    }
   ],
   "source": [
    "algo_returns_data_frame"
   ]
  },
  {
   "cell_type": "code",
   "execution_count": 7,
   "id": "56f83529-a79f-4300-bd6a-5e9d3c3daef2",
   "metadata": {
    "tags": []
   },
   "outputs": [
    {
     "data": {
      "text/html": [
       "<div>\n",
       "<style scoped>\n",
       "    .dataframe tbody tr th:only-of-type {\n",
       "        vertical-align: middle;\n",
       "    }\n",
       "\n",
       "    .dataframe tbody tr th {\n",
       "        vertical-align: top;\n",
       "    }\n",
       "\n",
       "    .dataframe thead th {\n",
       "        text-align: right;\n",
       "    }\n",
       "</style>\n",
       "<table border=\"1\" class=\"dataframe\">\n",
       "  <thead>\n",
       "    <tr style=\"text-align: right;\">\n",
       "      <th></th>\n",
       "      <th>Close</th>\n",
       "    </tr>\n",
       "    <tr>\n",
       "      <th>Date</th>\n",
       "      <th></th>\n",
       "    </tr>\n",
       "  </thead>\n",
       "  <tbody>\n",
       "    <tr>\n",
       "      <th>2019-04-23</th>\n",
       "      <td>$2933.68</td>\n",
       "    </tr>\n",
       "    <tr>\n",
       "      <th>2019-04-22</th>\n",
       "      <td>$2907.97</td>\n",
       "    </tr>\n",
       "    <tr>\n",
       "      <th>2019-04-18</th>\n",
       "      <td>$2905.03</td>\n",
       "    </tr>\n",
       "    <tr>\n",
       "      <th>2019-04-17</th>\n",
       "      <td>$2900.45</td>\n",
       "    </tr>\n",
       "    <tr>\n",
       "      <th>2019-04-16</th>\n",
       "      <td>$2907.06</td>\n",
       "    </tr>\n",
       "    <tr>\n",
       "      <th>...</th>\n",
       "      <td>...</td>\n",
       "    </tr>\n",
       "    <tr>\n",
       "      <th>2012-10-05</th>\n",
       "      <td>$1460.93</td>\n",
       "    </tr>\n",
       "    <tr>\n",
       "      <th>2012-10-04</th>\n",
       "      <td>$1461.40</td>\n",
       "    </tr>\n",
       "    <tr>\n",
       "      <th>2012-10-03</th>\n",
       "      <td>$1450.99</td>\n",
       "    </tr>\n",
       "    <tr>\n",
       "      <th>2012-10-02</th>\n",
       "      <td>$1445.75</td>\n",
       "    </tr>\n",
       "    <tr>\n",
       "      <th>2012-10-01</th>\n",
       "      <td>$1444.49</td>\n",
       "    </tr>\n",
       "  </tbody>\n",
       "</table>\n",
       "<p>1649 rows × 1 columns</p>\n",
       "</div>"
      ],
      "text/plain": [
       "               Close\n",
       "Date                \n",
       "2019-04-23  $2933.68\n",
       "2019-04-22  $2907.97\n",
       "2019-04-18  $2905.03\n",
       "2019-04-17  $2900.45\n",
       "2019-04-16  $2907.06\n",
       "...              ...\n",
       "2012-10-05  $1460.93\n",
       "2012-10-04  $1461.40\n",
       "2012-10-03  $1450.99\n",
       "2012-10-02  $1445.75\n",
       "2012-10-01  $1444.49\n",
       "\n",
       "[1649 rows x 1 columns]"
      ]
     },
     "execution_count": 7,
     "metadata": {},
     "output_type": "execute_result"
    }
   ],
   "source": [
    "sp500_history_data_frame"
   ]
  },
  {
   "cell_type": "markdown",
   "id": "ce3b98a0-d181-451b-abec-ad0f0c56ab7e",
   "metadata": {},
   "source": [
    "# Cleaning nulls from DataFrame by dropping\n",
    "csv_data = csv_data.dropna()\n",
    "csv_data\n",
    "\n",
    "# Check duplicates\n",
    "csv_data.duplicated()"
   ]
  }
 ],
 "metadata": {
  "kernelspec": {
   "display_name": "Python 3 (ipykernel)",
   "language": "python",
   "name": "python3"
  },
  "language_info": {
   "codemirror_mode": {
    "name": "ipython",
    "version": 3
   },
   "file_extension": ".py",
   "mimetype": "text/x-python",
   "name": "python",
   "nbconvert_exporter": "python",
   "pygments_lexer": "ipython3",
   "version": "3.11.4"
  }
 },
 "nbformat": 4,
 "nbformat_minor": 5
}
